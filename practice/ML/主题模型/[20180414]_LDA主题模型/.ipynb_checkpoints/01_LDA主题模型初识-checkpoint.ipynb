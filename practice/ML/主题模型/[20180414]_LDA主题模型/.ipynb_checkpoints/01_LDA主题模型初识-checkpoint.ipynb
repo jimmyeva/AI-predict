{
 "cells": [
  {
   "cell_type": "code",
   "execution_count": 71,
   "metadata": {
    "collapsed": true
   },
   "outputs": [],
   "source": [
    "import numpy as np\n",
    "import pandas as pd\n",
    "import matplotlib.pyplot as plt\n",
    "import matplotlib as mpl\n",
    "import random\n",
    "\n",
    "import lda.datasets # 使用第三方的lda库，安装方式: pip install lda\n",
    "from pprint import pprint"
   ]
  },
  {
   "cell_type": "code",
   "execution_count": 59,
   "metadata": {
    "collapsed": false
   },
   "outputs": [
    {
     "name": "stdout",
     "output_type": "stream",
     "text": [
      "训练文本数据X的类型: <class 'numpy.ndarray'>\n",
      "训练文本数据X的大小: (395, 4258)\n",
      "[[ 1  0  1  0  0  0  1  0  0  1]\n",
      " [ 7  0  2  0  0  0  0  1  0  0]\n",
      " [ 0  0  0  1 10  0  4  1  1  0]\n",
      " [ 6  0  1  0  0  0  1  1  1  0]\n",
      " [ 0  0  0  2 14  1  1  0  2  1]\n",
      " [ 0  0  2  2 24  0  2  0  2  1]\n",
      " [ 0  0  0  2  7  1  1  0  1  0]\n",
      " [ 0  0  2  2 20  0  2  0  3  1]\n",
      " [ 0  1  0  2 17  2  2  0  0  0]\n",
      " [ 2  0  2  0  0  2  0  1  0  3]]\n",
      "\n",
      "词汇表数据类型: <class 'tuple'>\n",
      "词汇表数据大小: 4258\n",
      "('church', 'pope', 'years', 'people', 'mother', 'last', 'told', 'first', 'world', 'year')\n",
      "\n",
      "文档名称对象数据类型: <class 'tuple'>\n",
      "文档数量: 395\n",
      "('0 UK: Prince Charles spearheads British royal revolution. LONDON 1996-08-20',\n",
      " '1 GERMANY: Historic Dresden church rising from WW2 ashes. DRESDEN, Germany '\n",
      " '1996-08-21',\n",
      " \"2 INDIA: Mother Teresa's condition said still unstable. CALCUTTA 1996-08-23\",\n",
      " '3 UK: Palace warns British weekly over Charles pictures. LONDON 1996-08-25',\n",
      " '4 INDIA: Mother Teresa, slightly stronger, blesses nuns. CALCUTTA 1996-08-25',\n",
      " \"5 INDIA: Mother Teresa's condition unchanged, thousands pray. CALCUTTA \"\n",
      " '1996-08-25',\n",
      " '6 INDIA: Mother Teresa shows signs of strength, blesses nuns. CALCUTTA '\n",
      " '1996-08-26',\n",
      " \"7 INDIA: Mother Teresa's condition improves, many pray. CALCUTTA, India \"\n",
      " '1996-08-25',\n",
      " '8 INDIA: Mother Teresa improves, nuns pray for \"miracle\". CALCUTTA '\n",
      " '1996-08-26',\n",
      " '9 UK: Charles under fire over prospect of Queen Camilla. LONDON 1996-08-26')\n"
     ]
    }
   ],
   "source": [
    "# 加载数据\n",
    "### 词袋法&TF-IDF转换之后的X矩阵\n",
    "X = lda.datasets.load_reuters()\n",
    "print(\"训练文本数据X的类型: {}\".format(type(X)))\n",
    "print(\"训练文本数据X的大小: {}\".format(X.shape))\n",
    "print(X[:10, :10])\n",
    "\n",
    "\n",
    "### 词汇表\n",
    "vocab = lda.datasets.load_reuters_vocab()\n",
    "print(\"\\n词汇表数据类型: {}\".format(type(vocab)))\n",
    "print(\"词汇表数据大小: {}\".format(len(vocab)))\n",
    "print(vocab[:10])\n",
    "\n",
    "\n",
    "titles = lda.datasets.load_reuters_titles()\n",
    "print(\"\\n文档名称对象数据类型: {}\".format(type(titles)))\n",
    "print(\"文档数量: {}\".format(len(titles)))\n",
    "pprint(titles[:10])"
   ]
  },
  {
   "cell_type": "code",
   "execution_count": 60,
   "metadata": {
    "collapsed": false
   },
   "outputs": [
    {
     "name": "stdout",
     "output_type": "stream",
     "text": [
      "文档id: 64 单词id: 2119\n",
      "-- 出现数量  : 9\n",
      "-- 单词为    : llosa\n",
      "-- 文档名称  : 64 GERMANY: Vargas Llosa urges sanctions on rights abuses. FRANKFURT 1996-10-06\n"
     ]
    }
   ],
   "source": [
    "# 数据测试\n",
    "#下面是测试文档编号为64，单词编号为2119的数据，X[64,2119]：\n",
    "doc_id = 64\n",
    "word_id = 2119\n",
    "print(\"文档id: {} 单词id: {}\".format(doc_id, word_id))\n",
    "print(\"-- 出现数量  : {}\".format(X[doc_id, word_id]))\n",
    "print(\"-- 单词为    : {}\".format(vocab[word_id]))\n",
    "print(\"-- 文档名称  : {}\".format(titles[doc_id]))"
   ]
  },
  {
   "cell_type": "code",
   "execution_count": 65,
   "metadata": {
    "collapsed": false
   },
   "outputs": [
    {
     "name": "stdout",
     "output_type": "stream",
     "text": [
      "训练集大小:300\n",
      "测试集大小:95\n"
     ]
    }
   ],
   "source": [
    "# 训练集和测试集获取\n",
    "random.seed(28)\n",
    "random.shuffle(X)\n",
    "X_train = X[:300]\n",
    "X_test = X[300:]\n",
    "print(\"训练集大小:{}\".format(len(X_train)))\n",
    "print(\"测试集大小:{}\".format(len(X_test)))"
   ]
  },
  {
   "cell_type": "code",
   "execution_count": 66,
   "metadata": {
    "collapsed": false,
    "scrolled": true
   },
   "outputs": [
    {
     "name": "stderr",
     "output_type": "stream",
     "text": [
      "INFO:lda:n_documents: 300\n",
      "INFO:lda:vocab_size: 4258\n",
      "INFO:lda:n_words: 70377\n",
      "INFO:lda:n_topics: 20\n",
      "INFO:lda:n_iter: 500\n",
      "WARNING:lda:all zero column in document-term matrix found\n",
      "INFO:lda:<0> log likelihood: -783563\n",
      "INFO:lda:<10> log likelihood: -443899\n",
      "INFO:lda:<20> log likelihood: -427584\n",
      "INFO:lda:<30> log likelihood: -420134\n",
      "INFO:lda:<40> log likelihood: -417008\n",
      "INFO:lda:<50> log likelihood: -414422\n",
      "INFO:lda:<60> log likelihood: -412671\n",
      "INFO:lda:<70> log likelihood: -409930\n",
      "INFO:lda:<80> log likelihood: -408935\n",
      "INFO:lda:<90> log likelihood: -408646\n",
      "INFO:lda:<100> log likelihood: -408008\n",
      "INFO:lda:<110> log likelihood: -407731\n",
      "INFO:lda:<120> log likelihood: -407645\n",
      "INFO:lda:<130> log likelihood: -407293\n",
      "INFO:lda:<140> log likelihood: -406642\n",
      "INFO:lda:<150> log likelihood: -406654\n",
      "INFO:lda:<160> log likelihood: -406115\n",
      "INFO:lda:<170> log likelihood: -405633\n",
      "INFO:lda:<180> log likelihood: -404864\n",
      "INFO:lda:<190> log likelihood: -404050\n",
      "INFO:lda:<200> log likelihood: -403615\n",
      "INFO:lda:<210> log likelihood: -403321\n",
      "INFO:lda:<220> log likelihood: -403407\n",
      "INFO:lda:<230> log likelihood: -403783\n",
      "INFO:lda:<240> log likelihood: -403857\n",
      "INFO:lda:<250> log likelihood: -403419\n",
      "INFO:lda:<260> log likelihood: -403466\n",
      "INFO:lda:<270> log likelihood: -403027\n",
      "INFO:lda:<280> log likelihood: -402798\n",
      "INFO:lda:<290> log likelihood: -402695\n",
      "INFO:lda:<300> log likelihood: -402510\n",
      "INFO:lda:<310> log likelihood: -401438\n",
      "INFO:lda:<320> log likelihood: -401136\n",
      "INFO:lda:<330> log likelihood: -400337\n",
      "INFO:lda:<340> log likelihood: -400083\n",
      "INFO:lda:<350> log likelihood: -399718\n",
      "INFO:lda:<360> log likelihood: -399833\n",
      "INFO:lda:<370> log likelihood: -399964\n",
      "INFO:lda:<380> log likelihood: -399692\n",
      "INFO:lda:<390> log likelihood: -399467\n",
      "INFO:lda:<400> log likelihood: -399410\n",
      "INFO:lda:<410> log likelihood: -399441\n",
      "INFO:lda:<420> log likelihood: -399298\n",
      "INFO:lda:<430> log likelihood: -399537\n",
      "INFO:lda:<440> log likelihood: -399507\n",
      "INFO:lda:<450> log likelihood: -399610\n",
      "INFO:lda:<460> log likelihood: -399741\n",
      "INFO:lda:<470> log likelihood: -399533\n",
      "INFO:lda:<480> log likelihood: -399542\n",
      "INFO:lda:<490> log likelihood: -399634\n",
      "INFO:lda:<499> log likelihood: -399501\n"
     ]
    },
    {
     "data": {
      "text/plain": [
       "<lda.lda.LDA at 0x4ee711f9e8>"
      ]
     },
     "execution_count": 66,
     "metadata": {},
     "output_type": "execute_result"
    }
   ],
   "source": [
    "# 模型训练\n",
    "topic_num = 20\n",
    "# n_topics: 给定主题的数目\n",
    "# n_iter: 给定迭代次数，默认2000\n",
    "# alpha: 给定主题分布的Dirichlet参数，默认0.1\n",
    "# eta: 给定词分布的Dirichlet参数，默认0.01\n",
    "model = lda.LDA(n_topics=topic_num, n_iter=500, random_state=28)\n",
    "model.fit(X_train)"
   ]
  },
  {
   "cell_type": "code",
   "execution_count": 72,
   "metadata": {
    "collapsed": false
   },
   "outputs": [
    {
     "name": "stderr",
     "output_type": "stream",
     "text": [
      "WARNING:lda:all zero column in document-term matrix found\n"
     ]
    },
    {
     "name": "stdout",
     "output_type": "stream",
     "text": [
      "大小:(95, 20)\n"
     ]
    },
    {
     "data": {
      "text/html": [
       "<div>\n",
       "<table border=\"1\" class=\"dataframe\">\n",
       "  <thead>\n",
       "    <tr style=\"text-align: right;\">\n",
       "      <th></th>\n",
       "      <th>0</th>\n",
       "      <th>1</th>\n",
       "      <th>2</th>\n",
       "      <th>3</th>\n",
       "      <th>4</th>\n",
       "      <th>5</th>\n",
       "      <th>6</th>\n",
       "      <th>7</th>\n",
       "      <th>8</th>\n",
       "      <th>9</th>\n",
       "      <th>10</th>\n",
       "      <th>11</th>\n",
       "      <th>12</th>\n",
       "      <th>13</th>\n",
       "      <th>14</th>\n",
       "      <th>15</th>\n",
       "      <th>16</th>\n",
       "      <th>17</th>\n",
       "      <th>18</th>\n",
       "      <th>19</th>\n",
       "    </tr>\n",
       "  </thead>\n",
       "  <tbody>\n",
       "    <tr>\n",
       "      <th>0</th>\n",
       "      <td>2.339528e-05</td>\n",
       "      <td>0.000110</td>\n",
       "      <td>0.000084</td>\n",
       "      <td>0.000073</td>\n",
       "      <td>0.403000</td>\n",
       "      <td>0.000115</td>\n",
       "      <td>0.000176</td>\n",
       "      <td>0.001299</td>\n",
       "      <td>0.000057</td>\n",
       "      <td>0.000048</td>\n",
       "      <td>0.000074</td>\n",
       "      <td>0.593172</td>\n",
       "      <td>0.000099</td>\n",
       "      <td>0.000069</td>\n",
       "      <td>0.001137</td>\n",
       "      <td>0.000078</td>\n",
       "      <td>0.000065</td>\n",
       "      <td>0.000065</td>\n",
       "      <td>0.000102</td>\n",
       "      <td>0.000155</td>\n",
       "    </tr>\n",
       "    <tr>\n",
       "      <th>1</th>\n",
       "      <td>9.990161e-07</td>\n",
       "      <td>0.000110</td>\n",
       "      <td>0.000022</td>\n",
       "      <td>0.000128</td>\n",
       "      <td>0.534125</td>\n",
       "      <td>0.000055</td>\n",
       "      <td>0.129754</td>\n",
       "      <td>0.104362</td>\n",
       "      <td>0.000059</td>\n",
       "      <td>0.000125</td>\n",
       "      <td>0.000096</td>\n",
       "      <td>0.208931</td>\n",
       "      <td>0.000127</td>\n",
       "      <td>0.000114</td>\n",
       "      <td>0.021550</td>\n",
       "      <td>0.000096</td>\n",
       "      <td>0.000049</td>\n",
       "      <td>0.000060</td>\n",
       "      <td>0.000104</td>\n",
       "      <td>0.000133</td>\n",
       "    </tr>\n",
       "    <tr>\n",
       "      <th>2</th>\n",
       "      <td>9.857448e-06</td>\n",
       "      <td>0.000032</td>\n",
       "      <td>0.000070</td>\n",
       "      <td>0.000042</td>\n",
       "      <td>0.060870</td>\n",
       "      <td>0.000061</td>\n",
       "      <td>0.001319</td>\n",
       "      <td>0.002280</td>\n",
       "      <td>0.000056</td>\n",
       "      <td>0.000062</td>\n",
       "      <td>0.000130</td>\n",
       "      <td>0.000124</td>\n",
       "      <td>0.000057</td>\n",
       "      <td>0.000040</td>\n",
       "      <td>0.934560</td>\n",
       "      <td>0.000067</td>\n",
       "      <td>0.000051</td>\n",
       "      <td>0.000052</td>\n",
       "      <td>0.000052</td>\n",
       "      <td>0.000064</td>\n",
       "    </tr>\n",
       "    <tr>\n",
       "      <th>3</th>\n",
       "      <td>2.092134e-04</td>\n",
       "      <td>0.000062</td>\n",
       "      <td>0.316559</td>\n",
       "      <td>0.000050</td>\n",
       "      <td>0.000028</td>\n",
       "      <td>0.000070</td>\n",
       "      <td>0.000033</td>\n",
       "      <td>0.000051</td>\n",
       "      <td>0.000362</td>\n",
       "      <td>0.000024</td>\n",
       "      <td>0.000029</td>\n",
       "      <td>0.000046</td>\n",
       "      <td>0.000031</td>\n",
       "      <td>0.000100</td>\n",
       "      <td>0.000043</td>\n",
       "      <td>0.000196</td>\n",
       "      <td>0.681908</td>\n",
       "      <td>0.000110</td>\n",
       "      <td>0.000040</td>\n",
       "      <td>0.000049</td>\n",
       "    </tr>\n",
       "    <tr>\n",
       "      <th>4</th>\n",
       "      <td>7.435530e-06</td>\n",
       "      <td>0.000030</td>\n",
       "      <td>0.000021</td>\n",
       "      <td>0.000044</td>\n",
       "      <td>0.412751</td>\n",
       "      <td>0.000030</td>\n",
       "      <td>0.584376</td>\n",
       "      <td>0.000549</td>\n",
       "      <td>0.000017</td>\n",
       "      <td>0.000056</td>\n",
       "      <td>0.000037</td>\n",
       "      <td>0.000062</td>\n",
       "      <td>0.000065</td>\n",
       "      <td>0.000051</td>\n",
       "      <td>0.001696</td>\n",
       "      <td>0.000038</td>\n",
       "      <td>0.000024</td>\n",
       "      <td>0.000038</td>\n",
       "      <td>0.000060</td>\n",
       "      <td>0.000049</td>\n",
       "    </tr>\n",
       "  </tbody>\n",
       "</table>\n",
       "</div>"
      ],
      "text/plain": [
       "             0         1         2         3         4         5         6   \\\n",
       "0  2.339528e-05  0.000110  0.000084  0.000073  0.403000  0.000115  0.000176   \n",
       "1  9.990161e-07  0.000110  0.000022  0.000128  0.534125  0.000055  0.129754   \n",
       "2  9.857448e-06  0.000032  0.000070  0.000042  0.060870  0.000061  0.001319   \n",
       "3  2.092134e-04  0.000062  0.316559  0.000050  0.000028  0.000070  0.000033   \n",
       "4  7.435530e-06  0.000030  0.000021  0.000044  0.412751  0.000030  0.584376   \n",
       "\n",
       "         7         8         9         10        11        12        13  \\\n",
       "0  0.001299  0.000057  0.000048  0.000074  0.593172  0.000099  0.000069   \n",
       "1  0.104362  0.000059  0.000125  0.000096  0.208931  0.000127  0.000114   \n",
       "2  0.002280  0.000056  0.000062  0.000130  0.000124  0.000057  0.000040   \n",
       "3  0.000051  0.000362  0.000024  0.000029  0.000046  0.000031  0.000100   \n",
       "4  0.000549  0.000017  0.000056  0.000037  0.000062  0.000065  0.000051   \n",
       "\n",
       "         14        15        16        17        18        19  \n",
       "0  0.001137  0.000078  0.000065  0.000065  0.000102  0.000155  \n",
       "1  0.021550  0.000096  0.000049  0.000060  0.000104  0.000133  \n",
       "2  0.934560  0.000067  0.000051  0.000052  0.000052  0.000064  \n",
       "3  0.000043  0.000196  0.681908  0.000110  0.000040  0.000049  \n",
       "4  0.001696  0.000038  0.000024  0.000038  0.000060  0.000049  "
      ]
     },
     "execution_count": 72,
     "metadata": {},
     "output_type": "execute_result"
    }
   ],
   "source": [
    "# 模型预测，得到文档-主题映射关系\n",
    "doc_topic = model.transform(X_test)\n",
    "print(\"大小:{}\".format(doc_topic.shape))\n",
    "pd.DataFrame(doc_topic).head()"
   ]
  },
  {
   "cell_type": "code",
   "execution_count": 52,
   "metadata": {
    "collapsed": false
   },
   "outputs": [
    {
     "name": "stdout",
     "output_type": "stream",
     "text": [
      "主题词数据类型: <class 'numpy.ndarray'>\n",
      "主题词数量: (20, 4258)\n",
      "('church', 'pope', 'years')\n",
      "[[2.44046486e-06 2.44046486e-06 4.90533437e-04]\n",
      " [1.82695786e-06 1.84522744e-04 1.82695786e-06]\n",
      " [5.11703151e-03 8.40865275e-02 1.59857279e-06]\n",
      " [4.42560122e-06 4.42560122e-06 8.85562804e-03]\n",
      " [2.13102387e-06 2.13102387e-06 6.18210025e-03]\n",
      " [3.11956027e-06 3.11956027e-06 3.11956027e-06]\n",
      " [3.40880426e-06 3.40880426e-06 3.40880426e-06]\n",
      " [1.70262038e-02 7.70381601e-07 8.93719695e-03]\n",
      " [2.33437145e-02 3.48361655e-06 3.48361655e-06]\n",
      " [4.10074716e-06 4.10074716e-06 4.10074716e-06]\n",
      " [1.34123261e-02 9.37859317e-07 1.81954086e-02]\n",
      " [5.31666651e-02 4.70459827e-06 4.70459827e-06]\n",
      " [2.36878136e-06 2.36878136e-06 2.36878136e-06]\n",
      " [2.46452319e-06 2.46452319e-06 2.46452319e-06]\n",
      " [3.40416261e-06 3.40416261e-06 3.40416261e-06]\n",
      " [1.52651546e-02 3.11470202e-06 3.11470202e-06]\n",
      " [4.62410639e-06 3.24149858e-03 4.62410639e-06]\n",
      " [1.93094836e-03 3.85418835e-06 2.31636720e-03]\n",
      " [4.34862018e-06 4.34862018e-06 4.34862018e-06]\n",
      " [2.95719752e-06 2.95719752e-06 2.95719752e-06]]\n",
      "主题: 0 概率和: 1.0000000000000275\n",
      "主题: 1 概率和: 1.0000000000001572\n",
      "主题: 2 概率和: 1.0000000000001292\n",
      "主题: 3 概率和: 1.0000000000000504\n",
      "主题: 4 概率和: 0.9999999999998929\n",
      "*主题 0\n",
      "- city century art million museum exhibition since\n",
      "*主题 1\n",
      "- political party government country against minister million\n",
      "*主题 2\n",
      "- pope vatican paul surgery hospital pontiff rome\n",
      "*主题 3\n",
      "- city quebec salonika buddhist director china vietnam\n",
      "*主题 4\n",
      "- charles prince diana royal queen parker bowles\n",
      "*主题 5\n",
      "- simpson court public former national found civil\n",
      "*主题 6\n",
      "- police miami versace cunanan home bardot beach\n",
      "*主题 7\n",
      "- church last told say years saying tuesday\n",
      "*主题 8\n",
      "- king church michael visit romania ceremony first\n",
      "*主题 9\n",
      "- germany german war nazi book letter scientology\n",
      "*主题 10\n",
      "- years people church life time later very\n",
      "*主题 11\n",
      "- church catholic bishop wright irish n't women\n",
      "*主题 12\n",
      "- harriman churchill u.s paris british ambassador france\n",
      "*主题 13\n",
      "- mother teresa order heart charity nuns calcutta\n",
      "*主题 14\n",
      "- yeltsin russian russia president kremlin moscow operation\n",
      "*主题 15\n",
      "- died president funeral clinton former service church\n",
      "*主题 16\n",
      "- bernardin east peace prize cardinal timor cancer\n",
      "*主题 17\n",
      "- elvis music fans concert king tour opera\n",
      "*主题 18\n",
      "- film french festival magazine life poster catholic\n",
      "*主题 19\n",
      "- year show television first industry says come\n",
      "文档主题数据类型: <class 'numpy.ndarray'>\n",
      "文档主题数据大小: (395, 20)\n",
      "文档: 0 主题: 4 value: 0.44391304347826094\n",
      "文档: 1 主题: 0 value: 0.2833333333333333\n",
      "文档: 2 主题: 13 value: 0.6071129707112971\n",
      "文档: 3 主题: 4 value: 0.469377990430622\n",
      "文档: 4 主题: 13 value: 0.6830258302583023\n",
      "文档: 5 主题: 13 value: 0.6809027777777775\n",
      "文档: 6 主题: 13 value: 0.7025252525252526\n",
      "文档: 7 主题: 13 value: 0.7273037542662114\n",
      "文档: 8 主题: 13 value: 0.6888461538461537\n",
      "文档: 9 主题: 4 value: 0.4853383458646615\n"
     ]
    }
   ],
   "source": [
    "# 获取模型的主题词\n",
    "topic_word = model.topic_word_\n",
    "print(\"主题词数据类型: {}\".format(type(topic_word)))\n",
    "print(\"主题词数量: {}\".format(topic_word.shape))\n",
    "print(vocab[:3])\n",
    "print(topic_word[:, :3])\n",
    "\n",
    "for n in range(5):\n",
    "    # 计算当前主题对应的所有词汇的概率\n",
    "    sum_pr = sum(topic_word[n, :])\n",
    "    print(\"主题: {} 概率和: {}\".format(n, sum_pr))\n",
    "\n",
    "#每个主题中的前7个单词\n",
    "n = 7\n",
    "for i, topic_dist in enumerate(topic_word):\n",
    "    # np.argsort => 对当前主题中各个单词的频率按照从小到大排序，返回索引值\n",
    "    # np.array(vocab)[np.argsort(topic_dist)] => 获取从小到大排序后的单词(频率/概率)\n",
    "    # np.array(vocab)[np.argsort(topic_dist)][:-(n + 1):-1] => 获取最后的n个单词\n",
    "    topic_words = np.array(vocab)[np.argsort(topic_dist)][:-(n + 1):-1]\n",
    "    print('*主题 {}\\n- {}'.format(i, ' '.join(topic_words)))\n",
    "\n",
    "###计算输入前10篇文字最可能的topic\n",
    "doc_topic = model.doc_topic_\n",
    "print(\"文档主题数据类型: {}\".format(type(doc_topic)))\n",
    "print(\"文档主题数据大小: {}\".format(doc_topic.shape))\n",
    "for i in range(10):\n",
    "    topic_most_pr = doc_topic[i].argmax()\n",
    "    print(u\"文档: {} 主题: {} value: {}\".format(i, topic_most_pr, doc_topic[i][topic_most_pr]))"
   ]
  },
  {
   "cell_type": "code",
   "execution_count": 6,
   "metadata": {
    "collapsed": false,
    "scrolled": true
   },
   "outputs": [
    {
     "data": {
      "image/png": "[encoded data removed]",
      "text/plain": [
       "<matplotlib.figure.Figure at 0x4ee72f3470>"
      ]
     },
     "metadata": {},
     "output_type": "display_data"
    },
    {
     "data": {
      "image/png": "[encoded data removed]",
      "text/plain": [
       "<matplotlib.figure.Figure at 0x4ee7205e10>"
      ]
     },
     "metadata": {},
     "output_type": "display_data"
    }
   ],
   "source": [
    "mpl.rcParams['font.sans-serif'] = [u'SimHei']\n",
    "mpl.rcParams['axes.unicode_minus'] = False\n",
    "#计算每个主题中单词权重分布情况：\n",
    "plt.figure(figsize=(8, 9))\n",
    "# f, ax = plt.subplots(5, 1, sharex=True)\n",
    "for i, k in enumerate([0, 5, 9, 14, 19]):\n",
    "    ax = plt.subplot(5, 1, i+1)\n",
    "    ax.plot(topic_word[k, :], 'r-')\n",
    "    ax.set_xlim(-50, 4350)   # [0,4258]\n",
    "    ax.set_ylim(0, 0.08)\n",
    "    ax.set_ylabel(u\"概率\")\n",
    "    ax.set_title(u\"主题 {}\".format(k))\n",
    "plt.xlabel(u\"词\", fontsize=14)\n",
    "plt.tight_layout()\n",
    "plt.suptitle(u'主题的词分布', fontsize=18)\n",
    "plt.subplots_adjust(top=0.9)\n",
    "plt.show()\n",
    "\n",
    "# Document - Topic\n",
    "plt.figure(figsize=(8, 9))\n",
    "for i, k in enumerate([1, 3, 4, 8, 9]):\n",
    "    ax = plt.subplot(5, 1, i+1)\n",
    "    ax.stem(doc_topic[k, :], linefmt='g-', markerfmt='ro')\n",
    "    ax.set_xlim(-1, topic_num+1)\n",
    "    ax.set_ylim(0, 1)\n",
    "    ax.set_ylabel(u\"概率\")\n",
    "    ax.set_title(u\"文档 {}\".format(k))\n",
    "plt.xlabel(u\"主题\", fontsize=14)\n",
    "plt.suptitle(u'文档的主题分布', fontsize=18)\n",
    "plt.tight_layout()\n",
    "plt.subplots_adjust(top=0.9)\n",
    "plt.show()\n"
   ]
  },
  {
   "cell_type": "code",
   "execution_count": null,
   "metadata": {
    "collapsed": true
   },
   "outputs": [],
   "source": []
  }
 ],
 "metadata": {
  "kernelspec": {
   "display_name": "Python 3",
   "language": "python",
   "name": "python3"
  },
  "language_info": {
   "codemirror_mode": {
    "name": "ipython",
    "version": 3
   },
   "file_extension": ".py",
   "mimetype": "text/x-python",
   "name": "python",
   "nbconvert_exporter": "python",
   "pygments_lexer": "ipython3",
   "version": "3.6.0"
  }
 },
 "nbformat": 4,
 "nbformat_minor": 2
}
