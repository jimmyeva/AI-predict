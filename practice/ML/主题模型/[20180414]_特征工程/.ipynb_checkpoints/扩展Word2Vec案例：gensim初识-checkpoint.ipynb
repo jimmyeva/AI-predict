{
 "cells": [
  {
   "cell_type": "markdown",
   "metadata": {},
   "source": [
    "# 注意：\n",
    "\n",
    "如何获取单词与单词之间的相关性？或者说获取单词与单词之间的相似性？"
   ]
  },
  {
   "cell_type": "code",
   "execution_count": 3,
   "metadata": {
    "collapsed": false
   },
   "outputs": [],
   "source": [
    "import gensim\n",
    "import jieba"
   ]
  },
  {
   "cell_type": "code",
   "execution_count": 16,
   "metadata": {
    "collapsed": false
   },
   "outputs": [],
   "source": [
    "documents = [\"Human machine interface for lab abc computer applications\",\n",
    "             \"A survey of user opinion of computer system response time\",\n",
    "             \"The EPS user interface management system\",\n",
    "             \"System and human system engineering testing of EPS\",\n",
    "             \"Relation of user perceived response time to error measurement\",\n",
    "             \"The generation of random binary unordered trees\",\n",
    "             \"The intersection graph of paths in trees\",\n",
    "             \"Graph minors IV Widths of trees and well quasi ordering\",\n",
    "             \"Graph minors A survey\"]\n",
    "\n",
    "texts=list(map(lambda document: list(filter(lambda word: len(word) > 1, jieba.cut(document))), documents))"
   ]
  },
  {
   "cell_type": "code",
   "execution_count": 17,
   "metadata": {
    "collapsed": false
   },
   "outputs": [
    {
     "name": "stdout",
     "output_type": "stream",
     "text": [
      "['Human', 'machine', 'interface', 'for', 'lab', 'abc', 'computer', 'applications']\n",
      "['survey', 'of', 'user', 'opinion', 'of', 'computer', 'system', 'response', 'time']\n",
      "['The', 'EPS', 'user', 'interface', 'management', 'system']\n",
      "['System', 'and', 'human', 'system', 'engineering', 'testing', 'of', 'EPS']\n",
      "['Relation', 'of', 'user', 'perceived', 'response', 'time', 'to', 'error', 'measurement']\n",
      "['The', 'generation', 'of', 'random', 'binary', 'unordered', 'trees']\n",
      "['The', 'intersection', 'graph', 'of', 'paths', 'in', 'trees']\n",
      "['Graph', 'minors', 'IV', 'Widths', 'of', 'trees', 'and', 'well', 'quasi', 'ordering']\n",
      "['Graph', 'minors', 'survey']\n"
     ]
    }
   ],
   "source": [
    "for w in texts:\n",
    "    print(w)"
   ]
  },
  {
   "cell_type": "code",
   "execution_count": 29,
   "metadata": {
    "collapsed": false
   },
   "outputs": [],
   "source": [
    "# sentences给定文本序列\n",
    "# size: 最终形成的向量的维度大小\n",
    "# window: 窗口大小\n",
    "# workers：使用多少cpu核来训练模型，表示的是并行度\n",
    "model = gensim.models.Word2Vec(sentences=texts, size=100, min_count=1, window=3, workers=2)"
   ]
  },
  {
   "cell_type": "code",
   "execution_count": 30,
   "metadata": {
    "collapsed": false
   },
   "outputs": [],
   "source": [
    "# 模型持久化\n",
    "model.save('word2vec.mm')"
   ]
  },
  {
   "cell_type": "code",
   "execution_count": 31,
   "metadata": {
    "collapsed": true
   },
   "outputs": [],
   "source": [
    "# 模型加载\n",
    "model2 = gensim.models.Word2Vec.load('word2vec.mm')"
   ]
  },
  {
   "cell_type": "code",
   "execution_count": 34,
   "metadata": {
    "collapsed": false
   },
   "outputs": [
    {
     "name": "stdout",
     "output_type": "stream",
     "text": [
      "和单词Graph最相似的单词已经相似度为：\n",
      "相似单词为:minors, 相似度为:0.19433052837848663\n",
      "相似单词为:trees, 相似度为:0.17099346220493317\n",
      "相似单词为:perceived, 相似度为:0.1704540103673935\n",
      "相似单词为:for, 相似度为:0.12178187817335129\n",
      "相似单词为:unordered, 相似度为:0.11858190596103668\n",
      "相似单词为:to, 相似度为:0.08818459510803223\n",
      "相似单词为:quasi, 相似度为:0.06915955990552902\n",
      "相似单词为:applications, 相似度为:0.06531854718923569\n",
      "相似单词为:paths, 相似度为:0.06520514190196991\n",
      "相似单词为:of, 相似度为:0.061371441930532455\n"
     ]
    }
   ],
   "source": [
    "# 使用模型进行操作\n",
    "# 1. 查看单词与单词之间的相似度\n",
    "word = \"Graph\"\n",
    "print(\"和单词{}最相似的单词已经相似度为：\".format(word))\n",
    "sim_word_list = model2.wv.most_similar(word, topn=10)\n",
    "for sim_word in sim_word_list:\n",
    "    print(\"相似单词为:{}, 相似度为:{}\".format(sim_word[0], sim_word[1]))"
   ]
  },
  {
   "cell_type": "code",
   "execution_count": 39,
   "metadata": {
    "collapsed": false
   },
   "outputs": [
    {
     "name": "stdout",
     "output_type": "stream",
     "text": [
      "[(0, 0.37967204593042664), (1, 0.37967204593042664), (2, 0.37967204593042664), (3, 0.25989885074199909), (4, 0.37967204593042664), (5, 0.25989885074199909), (6, 0.37967204593042664), (7, 0.37967204593042664)]\n",
      "[(3, 0.36534835293964857), (8, 0.19697923755694743), (9, 0.53371746832234968), (10, 0.36534835293964857), (11, 0.36534835293964857), (12, 0.26685873416117484), (13, 0.36534835293964857), (14, 0.26685873416117484)]\n",
      "[(5, 0.41758763104062496), (12, 0.30501548925628524), (14, 0.30501548925628524), (15, 0.41758763104062496), (16, 0.30501548925628524), (17, 0.61003097851257049)]\n",
      "[(8, 0.080759315951762001), (12, 0.21881827845311883), (15, 0.29957759440488085), (18, 0.43763655690623765), (19, 0.29957759440488085), (20, 0.43763655690623765), (21, 0.43763655690623765), (22, 0.43763655690623765)]\n",
      "[(8, 0.073984529194696252), (10, 0.27444644643304716), (13, 0.27444644643304716), (14, 0.20046191723835088), (23, 0.40092383447670177), (24, 0.40092383447670177), (25, 0.40092383447670177), (26, 0.40092383447670177), (27, 0.40092383447670177)]\n",
      "[(8, 0.086663401878473392), (16, 0.23481546593665256), (28, 0.46963093187330512), (29, 0.46963093187330512), (30, 0.46963093187330512), (31, 0.23481546593665256), (32, 0.46963093187330512)]\n",
      "[(3, '0.023*\"minors\" + 0.023*\"survey\" + 0.023*\"EPS\" + 0.023*\"trees\" + 0.023*\"The\" + 0.023*\"Graph\" + 0.023*\"user\" + 0.023*\"computer\" + 0.023*\"response\" + 0.023*\"system\"'), (4, '0.082*\"Graph\" + 0.082*\"minors\" + 0.062*\"management\" + 0.059*\"survey\" + 0.045*\"interface\" + 0.045*\"EPS\" + 0.042*\"IV\" + 0.042*\"ordering\" + 0.042*\"well\" + 0.042*\"Widths\"'), (2, '0.089*\"opinion\" + 0.065*\"survey\" + 0.065*\"response\" + 0.065*\"computer\" + 0.065*\"time\" + 0.051*\"system\" + 0.051*\"user\" + 0.042*\"of\" + 0.014*\"Graph\" + 0.014*\"minors\"'), (5, '0.023*\"survey\" + 0.023*\"minors\" + 0.023*\"EPS\" + 0.023*\"Graph\" + 0.023*\"The\" + 0.023*\"management\" + 0.023*\"user\" + 0.023*\"of\" + 0.023*\"time\" + 0.023*\"response\"'), (8, '0.069*\"measurement\" + 0.069*\"to\" + 0.069*\"perceived\" + 0.069*\"Relation\" + 0.069*\"error\" + 0.052*\"time\" + 0.052*\"response\" + 0.042*\"user\" + 0.024*\"of\" + 0.014*\"minors\"')]\n"
     ]
    }
   ],
   "source": [
    "# 使用模型进行操作\n",
    "# 2. 将文本数据转换为特征矩阵的形式\n",
    "# a. 生成词典\n",
    "dictionary = gensim.corpora.Dictionary(texts)\n",
    "# b. 进行文档转换\n",
    "corpus = [dictionary.doc2bow(text) for text in texts]\n",
    "# c. 使用tf-idf将频数转换为idf值\n",
    "tfidf = gensim.models.TfidfModel(corpus=corpus)\n",
    "# d. 将数据转换为tfidf格式\n",
    "corpus_tfidf = tfidf[corpus]\n",
    "# e. 结果输出\n",
    "count = 0\n",
    "for doc in corpus_tfidf:\n",
    "    count += 1\n",
    "    print(doc)\n",
    "    if count > 5:\n",
    "        break\n",
    "# f. 使用gensim自带的主题模型进行模型训练\n",
    "lda = gensim.models.LdaModel(corpus_tfidf, id2word=dictionary, num_topics=10)\n",
    "# g. 输出lda的主题\n",
    "print(lda.print_topics(5))"
   ]
  },
  {
   "cell_type": "code",
   "execution_count": null,
   "metadata": {
    "collapsed": true
   },
   "outputs": [],
   "source": []
  }
 ],
 "metadata": {
  "kernelspec": {
   "display_name": "Python 3",
   "language": "python",
   "name": "python3"
  },
  "language_info": {
   "codemirror_mode": {
    "name": "ipython",
    "version": 3
   },
   "file_extension": ".py",
   "mimetype": "text/x-python",
   "name": "python",
   "nbconvert_exporter": "python",
   "pygments_lexer": "ipython3",
   "version": "3.6.0"
  }
 },
 "nbformat": 4,
 "nbformat_minor": 2
}
