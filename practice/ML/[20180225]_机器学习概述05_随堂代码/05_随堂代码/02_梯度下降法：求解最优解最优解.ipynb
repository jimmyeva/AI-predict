{
 "cells": [
  {
   "cell_type": "code",
   "execution_count": 12,
   "metadata": {
    "collapsed": true
   },
   "outputs": [],
   "source": [
    "import numpy as np\n",
    "import matplotlib as mpl\n",
    "import matplotlib.pyplot as plt\n",
    "import math\n",
    "from mpl_toolkits.mplot3d import Axes3D"
   ]
  },
  {
   "cell_type": "code",
   "execution_count": 13,
   "metadata": {
    "collapsed": true
   },
   "outputs": [],
   "source": [
    "# 设置在jupyter中matplotlib的显示情况\n",
    "%matplotlib tk"
   ]
  },
  {
   "cell_type": "code",
   "execution_count": 14,
   "metadata": {
    "collapsed": true
   },
   "outputs": [],
   "source": [
    "# 解决中文显示问题\n",
    "mpl.rcParams['font.sans-serif'] = [u'SimHei']\n",
    "mpl.rcParams['axes.unicode_minus'] = False"
   ]
  },
  {
   "cell_type": "code",
   "execution_count": 15,
   "metadata": {},
   "outputs": [
    {
     "name": "stdout",
     "output_type": "stream",
     "text": [
      "最终结果为:(0.25001, 0.00000)\n",
      "迭代过程中X的取值，迭代次数:19\n",
      "[4, 2.125, 1.1875, 0.71875, 0.484375, 0.3671875, 0.30859375, 0.279296875, 0.2646484375, 0.25732421875, 0.253662109375, 0.2518310546875, 0.25091552734375, 0.250457763671875, 0.2502288818359375, 0.25011444091796875, 0.2500572204589844, 0.2500286102294922, 0.2500143051147461, 0.25000715255737305]\n"
     ]
    }
   ],
   "source": [
    "# 一维原始图像\n",
    "def f1(x):\n",
    "    return 0.5 * (x - 0.25) ** 2\n",
    "# 导函数\n",
    "def h1(x):\n",
    "    return 0.5 * 2 * (x - 0.25)\n",
    "\n",
    "# 使用梯度下降法求解\n",
    "GD_X = []\n",
    "GD_Y = []\n",
    "x = 4\n",
    "alpha = 0.5\n",
    "f_change = f1(x)\n",
    "f_current = f_change\n",
    "GD_X.append(x)\n",
    "GD_Y.append(f_current)\n",
    "iter_num = 0\n",
    "while f_change > 1e-10 and iter_num < 100:\n",
    "    iter_num += 1\n",
    "    x = x - alpha * h1(x)\n",
    "    tmp = f1(x)\n",
    "    f_change = np.abs(f_current - tmp)\n",
    "    f_current  = tmp\n",
    "    GD_X.append(x)\n",
    "    GD_Y.append(f_current)\n",
    "print(u\"最终结果为:(%.5f, %.5f)\" % (x, f_current))\n",
    "print(u\"迭代过程中X的取值，迭代次数:%d\" % iter_num)\n",
    "print(GD_X)\n",
    "\n",
    "\n",
    "# 构建数据\n",
    "X = np.arange(-4, 4.5, 0.05)\n",
    "Y = np.array(list(map(lambda t: f1(t), X)))\n",
    "\n",
    "# 画图\n",
    "plt.figure(facecolor='w')\n",
    "plt.plot(X, Y, 'r-', linewidth=2)\n",
    "plt.plot(GD_X, GD_Y, 'bo--', linewidth=2)\n",
    "plt.title(u'函数$y=0.5 * (θ - 0.25)^2$; \\n学习率:%.3f; 最终解:(%.3f, %.3f);迭代次数:%d' % (alpha, x, f_current, iter_num))\n",
    "plt.show()\n"
   ]
  },
  {
   "cell_type": "code",
   "execution_count": 16,
   "metadata": {},
   "outputs": [
    {
     "name": "stdout",
     "output_type": "stream",
     "text": [
      "最终结果为:(0.00000, 0.00000, 0.00000)\n",
      "迭代过程中X的取值，迭代次数:12\n",
      "[4, 1.2000000000000002, 0.3600000000000001, 0.10800000000000004, 0.03240000000000001, 0.009720000000000006, 0.002916000000000002, 0.0008748000000000007, 0.0002624400000000003, 7.873200000000009e-05, 2.3619600000000034e-05, 7.0858800000000115e-06, 2.125764000000004e-06]\n"
     ]
    }
   ],
   "source": [
    "# 二维原始图像\n",
    "def f2(x, y):\n",
    "    return 0.6 * (x + y) ** 2 - x * y\n",
    "# 导函数\n",
    "def hx2(x, y):\n",
    "    return 0.6 * 2 * (x + y) - y\n",
    "def hy2(x, y):\n",
    "    return 0.6 * 2 * (x + y) - x\n",
    "\n",
    "# 使用梯度下降法求解\n",
    "GD_X1 = []\n",
    "GD_X2 = []\n",
    "GD_Y = []\n",
    "x1 = 4\n",
    "x2 = 4\n",
    "alpha = 0.5\n",
    "f_change = f2(x1, x2)\n",
    "f_current = f_change\n",
    "GD_X1.append(x1)\n",
    "GD_X2.append(x2)\n",
    "GD_Y.append(f_current)\n",
    "iter_num = 0\n",
    "while f_change > 1e-10 and iter_num < 100:\n",
    "    iter_num += 1\n",
    "    prex1 = x1\n",
    "    prex2 = x2\n",
    "    x1 = x1 - alpha * hx2(prex1, prex2)\n",
    "    x2 = x2 - alpha * hy2(prex1, prex2)\n",
    "    \n",
    "    tmp = f2(x1, x2)\n",
    "    f_change = np.abs(f_current - tmp)\n",
    "    f_current  = tmp\n",
    "    GD_X1.append(x1)\n",
    "    GD_X2.append(x2)\n",
    "    GD_Y.append(f_current)\n",
    "print(u\"最终结果为:(%.5f, %.5f, %.5f)\" % (x1, x2, f_current))\n",
    "print(u\"迭代过程中X的取值，迭代次数:%d\" % iter_num)\n",
    "print(GD_X1)\n",
    "\n",
    "\n",
    "# 构建数据\n",
    "X1 = np.arange(-4, 4.5, 0.2)\n",
    "X2 = np.arange(-4, 4.5, 0.2)\n",
    "X1, X2 = np.meshgrid(X1, X2)\n",
    "Y = np.array(list(map(lambda t: f2(t[0], t[1]), zip(X1.flatten(), X2.flatten()))))\n",
    "Y.shape = X1.shape\n",
    "\n",
    "\n",
    "# 画图\n",
    "fig = plt.figure(facecolor='w')\n",
    "ax = Axes3D(fig)\n",
    "ax.plot_surface(X1, X2, Y, rstride=1, cstride=1, cmap=plt.cm.jet)\n",
    "ax.plot(GD_X1, GD_X2, GD_Y, 'bo--')\n",
    "\n",
    "ax.set_title(u'函数$y=0.6 * (θ1 + θ2)^2 - θ1 * θ2$;\\n学习率:%.3f; 最终解:(%.3f, %.3f, %.3f);迭代次数:%d' % (alpha, x1, x2, f_current, iter_num))\n",
    "plt.show()\n"
   ]
  },
  {
   "cell_type": "code",
   "execution_count": 7,
   "metadata": {},
   "outputs": [
    {
     "ename": "NameError",
     "evalue": "name 'np' is not defined",
     "output_type": "error",
     "traceback": [
      "\u001b[1;31m---------------------------------------------------------------------------\u001b[0m",
      "\u001b[1;31mNameError\u001b[0m                                 Traceback (most recent call last)",
      "\u001b[1;32m<ipython-input-7-e86054dcfcef>\u001b[0m in \u001b[0;36m<module>\u001b[1;34m()\u001b[0m\n\u001b[0;32m     29\u001b[0m \u001b[1;33m\u001b[0m\u001b[0m\n\u001b[0;32m     30\u001b[0m     \u001b[0mtmp\u001b[0m \u001b[1;33m=\u001b[0m \u001b[0mf2\u001b[0m\u001b[1;33m(\u001b[0m\u001b[0mx1\u001b[0m\u001b[1;33m,\u001b[0m \u001b[0mx2\u001b[0m\u001b[1;33m)\u001b[0m\u001b[1;33m\u001b[0m\u001b[0m\n\u001b[1;32m---> 31\u001b[1;33m     \u001b[0mf_change\u001b[0m \u001b[1;33m=\u001b[0m \u001b[0mnp\u001b[0m\u001b[1;33m.\u001b[0m\u001b[0mabs\u001b[0m\u001b[1;33m(\u001b[0m\u001b[0mf_current\u001b[0m \u001b[1;33m-\u001b[0m \u001b[0mtmp\u001b[0m\u001b[1;33m)\u001b[0m\u001b[1;33m\u001b[0m\u001b[0m\n\u001b[0m\u001b[0;32m     32\u001b[0m     \u001b[0mf_current\u001b[0m  \u001b[1;33m=\u001b[0m \u001b[0mtmp\u001b[0m\u001b[1;33m\u001b[0m\u001b[0m\n\u001b[0;32m     33\u001b[0m     \u001b[0mGD_X1\u001b[0m\u001b[1;33m.\u001b[0m\u001b[0mappend\u001b[0m\u001b[1;33m(\u001b[0m\u001b[0mx1\u001b[0m\u001b[1;33m)\u001b[0m\u001b[1;33m\u001b[0m\u001b[0m\n",
      "\u001b[1;31mNameError\u001b[0m: name 'np' is not defined"
     ]
    }
   ],
   "source": [
    "# 二维原始图像\n",
    "def f2(x, y):\n",
    "    return 0.15 * (x + 0.5) ** 2 + 0.25 * (y  - 0.25) ** 2 + 0.35 * (1.5 * x - 0.2 * y + 0.35 ) ** 2  \n",
    "## 偏函数\n",
    "def hx2(x, y):\n",
    "    return 0.15 * 2 * (x + 0.5) + 0.25 * 2 * (1.5 * x - 0.2 * y + 0.35 ) * 1.5\n",
    "def hy2(x, y):\n",
    "    return 0.25 * 2 * (y  - 0.25) - 0.25 * 2 * (1.5 * x - 0.2 * y + 0.35 ) * 0.2\n",
    "\n",
    "# 使用梯度下降法求解\n",
    "GD_X1 = []\n",
    "GD_X2 = []\n",
    "GD_Y = []\n",
    "x1 = 4\n",
    "x2 = 4\n",
    "alpha = 0.5\n",
    "f_change = f2(x1, x2)\n",
    "f_current = f_change\n",
    "GD_X1.append(x1)\n",
    "GD_X2.append(x2)\n",
    "GD_Y.append(f_current)\n",
    "iter_num = 0\n",
    "while f_change > 1e-10 and iter_num < 100:\n",
    "    iter_num += 1\n",
    "    prex1 = x1\n",
    "    prex2 = x2\n",
    "    x1 = x1 - alpha * hx2(prex1, prex2)\n",
    "    x2 = x2 - alpha * hy2(prex1, prex2)\n",
    "    \n",
    "    tmp = f2(x1, x2)\n",
    "    f_change = np.abs(f_current - tmp)\n",
    "    f_current  = tmp\n",
    "    GD_X1.append(x1)\n",
    "    GD_X2.append(x2)\n",
    "    GD_Y.append(f_current)\n",
    "print(u\"最终结果为:(%.5f, %.5f, %.5f)\" % (x1, x2, f_current))\n",
    "print(u\"迭代过程中X的取值，迭代次数:%d\" % iter_num)\n",
    "print(GD_X1)\n",
    "\n",
    "\n",
    "# 构建数据\n",
    "X1 = np.arange(-4, 4.5, 0.2)\n",
    "X2 = np.arange(-4, 4.5, 0.2)\n",
    "X1, X2 = np.meshgrid(X1, X2)\n",
    "Y = np.array(list(map(lambda t: f2(t[0], t[1]), zip(X1.flatten(), X2.flatten()))))\n",
    "Y.shape = X1.shape\n",
    "\n",
    "\n",
    "# 画图\n",
    "fig = plt.figure(facecolor='w')\n",
    "ax = Axes3D(fig)\n",
    "ax.plot_surface(X1, X2, Y, rstride=1, cstride=1, cmap=plt.cm.jet)\n",
    "ax.plot(GD_X1, GD_X2, GD_Y, 'ko--')\n",
    "ax.set_xlabel('x')\n",
    "ax.set_ylabel('y')\n",
    "ax.set_zlabel('z')\n",
    "\n",
    "ax.set_title(u'函数;\\n学习率:%.3f; 最终解:(%.3f, %.3f, %.3f);迭代次数:%d' % (alpha, x1, x2, f_current, iter_num))\n",
    "plt.show()"
   ]
  },
  {
   "cell_type": "code",
   "execution_count": null,
   "metadata": {
    "collapsed": true
   },
   "outputs": [],
   "source": []
  }
 ],
 "metadata": {
  "kernelspec": {
   "display_name": "Python 3",
   "language": "python",
   "name": "python3"
  },
  "language_info": {
   "codemirror_mode": {
    "name": "ipython",
    "version": 3
   },
   "file_extension": ".py",
   "mimetype": "text/x-python",
   "name": "python",
   "nbconvert_exporter": "python",
   "pygments_lexer": "ipython3",
   "version": "3.6.3"
  }
 },
 "nbformat": 4,
 "nbformat_minor": 2
}
